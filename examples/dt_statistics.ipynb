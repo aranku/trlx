{
 "cells": [
  {
   "cell_type": "code",
   "execution_count": 1,
   "metadata": {},
   "outputs": [
    {
     "name": "stderr",
     "output_type": "stream",
     "text": [
      "/home/ubuntu/.local/lib/python3.8/site-packages/pandas/core/computation/expressions.py:20: UserWarning: Pandas requires version '2.7.3' or newer of 'numexpr' (version '2.7.1' currently installed).\n",
      "  from pandas.core.computation.check import NUMEXPR_INSTALLED\n"
     ]
    }
   ],
   "source": [
    "from datasets import load_dataset\n",
    "from transformers import pipeline\n",
    "import os\n",
    "from matplotlib import mlab\n",
    "import matplotlib.pyplot as plt\n",
    "import numpy as np"
   ]
  },
  {
   "cell_type": "code",
   "execution_count": 2,
   "metadata": {},
   "outputs": [
    {
     "name": "stderr",
     "output_type": "stream",
     "text": [
      "Found cached dataset imdb (/home/ubuntu/.cache/huggingface/datasets/imdb/plain_text/1.0.0/d613c88cf8fa3bab83b4ded3713f1f74830d1100e171db75bbddb80b3345c9c0)\n"
     ]
    }
   ],
   "source": [
    "dataset = load_dataset(\"imdb\", split=\"train+test\")\n",
    "sentiment_fn = pipeline(\n",
    "        \"sentiment-analysis\",\n",
    "        \"lvwerra/distilbert-imdb\",\n",
    "        top_k=2,\n",
    "        truncation=True,\n",
    "        batch_size=256,\n",
    "        device=0 if int(os.environ.get(\"LOCAL_RANK\", 0)) == 0 else -1,\n",
    "    )"
   ]
  },
  {
   "cell_type": "code",
   "execution_count": 3,
   "metadata": {},
   "outputs": [],
   "source": [
    "def get_positive_score(scores):\n",
    "    \"Extract value associated with a positive sentiment from pipeline's output\"\n",
    "    return dict(map(lambda x: tuple(x.values()), scores))[\"POSITIVE\"]\n",
    "\n",
    "def add_reward(samples):\n",
    "    samples[\"reward\"] = list(map(get_positive_score, sentiment_fn(samples[\"text\"])))\n",
    "    return samples"
   ]
  },
  {
   "cell_type": "code",
   "execution_count": 4,
   "metadata": {},
   "outputs": [
    {
     "data": {
      "application/vnd.jupyter.widget-view+json": {
       "model_id": "2082d58b431c492da1229b407aa8d2c0",
       "version_major": 2,
       "version_minor": 0
      },
      "text/plain": [
       "Map:   0%|          | 0/50000 [00:00<?, ? examples/s]"
      ]
     },
     "metadata": {},
     "output_type": "display_data"
    },
    {
     "name": "stderr",
     "output_type": "stream",
     "text": [
      "/home/ubuntu/.local/lib/python3.8/site-packages/transformers/pipelines/base.py:1045: UserWarning: You seem to be using the pipelines sequentially on GPU. In order to maximize efficiency please use a dataset\n",
      "  warnings.warn(\n"
     ]
    }
   ],
   "source": [
    "dataset = dataset.map(add_reward, batched=True, batch_size=1000)"
   ]
  },
  {
   "cell_type": "code",
   "execution_count": 5,
   "metadata": {},
   "outputs": [],
   "source": [
    "rewards = dataset[\"reward\"]"
   ]
  },
  {
   "cell_type": "code",
   "execution_count": 6,
   "metadata": {},
   "outputs": [
    {
     "data": {
      "text/plain": [
       "(array([2.0000e+00, 9.0000e+00, 8.0000e+00, 2.6000e+01, 3.0000e+01,\n",
       "        5.1000e+01, 5.1000e+01, 8.2000e+01, 1.0600e+02, 1.1700e+02,\n",
       "        1.5000e+02, 1.6900e+02, 1.7100e+02, 1.6900e+02, 1.9800e+02,\n",
       "        2.1200e+02, 2.4000e+02, 2.2900e+02, 2.4800e+02, 2.4500e+02,\n",
       "        2.5100e+02, 2.5900e+02, 2.7400e+02, 2.6500e+02, 2.3600e+02,\n",
       "        2.5900e+02, 2.7600e+02, 2.5100e+02, 2.5300e+02, 2.4700e+02,\n",
       "        2.7500e+02, 2.4400e+02, 2.2700e+02, 2.5200e+02, 2.2700e+02,\n",
       "        2.4100e+02, 2.1700e+02, 2.2200e+02, 2.4300e+02, 2.3900e+02,\n",
       "        2.0200e+02, 2.1900e+02, 2.3300e+02, 2.2400e+02, 2.5400e+02,\n",
       "        2.1700e+02, 2.0700e+02, 2.1000e+02, 1.7200e+02, 1.9000e+02,\n",
       "        2.1700e+02, 1.8900e+02, 1.7400e+02, 1.7900e+02, 1.9700e+02,\n",
       "        1.5400e+02, 1.7800e+02, 1.6400e+02, 1.8500e+02, 1.7900e+02,\n",
       "        1.6300e+02, 1.5700e+02, 1.5000e+02, 1.5100e+02, 1.4100e+02,\n",
       "        1.5200e+02, 1.4600e+02, 1.6600e+02, 1.4600e+02, 1.7800e+02,\n",
       "        1.5500e+02, 1.6800e+02, 1.1500e+02, 1.4400e+02, 1.2400e+02,\n",
       "        1.2100e+02, 1.3700e+02, 1.2800e+02, 1.3100e+02, 1.1000e+02,\n",
       "        1.2600e+02, 1.1000e+02, 1.0500e+02, 8.8000e+01, 1.0400e+02,\n",
       "        1.2500e+02, 1.2100e+02, 1.2700e+02, 9.7000e+01, 1.0100e+02,\n",
       "        1.0700e+02, 9.9000e+01, 1.1100e+02, 9.8000e+01, 1.0000e+02,\n",
       "        9.9000e+01, 9.8000e+01, 9.3000e+01, 9.4000e+01, 9.3000e+01,\n",
       "        1.0300e+02, 1.0500e+02, 9.0000e+01, 1.1100e+02, 8.4000e+01,\n",
       "        9.5000e+01, 9.1000e+01, 1.1000e+02, 8.5000e+01, 7.4000e+01,\n",
       "        8.7000e+01, 9.0000e+01, 1.0000e+02, 8.0000e+01, 9.0000e+01,\n",
       "        7.9000e+01, 6.7000e+01, 8.3000e+01, 7.4000e+01, 7.3000e+01,\n",
       "        8.5000e+01, 8.1000e+01, 8.9000e+01, 7.1000e+01, 7.2000e+01,\n",
       "        8.5000e+01, 9.0000e+01, 6.3000e+01, 7.2000e+01, 8.3000e+01,\n",
       "        6.7000e+01, 7.2000e+01, 7.3000e+01, 7.8000e+01, 7.2000e+01,\n",
       "        6.4000e+01, 7.7000e+01, 6.3000e+01, 7.5000e+01, 6.2000e+01,\n",
       "        7.5000e+01, 5.5000e+01, 5.3000e+01, 5.3000e+01, 7.6000e+01,\n",
       "        7.0000e+01, 6.4000e+01, 4.8000e+01, 7.4000e+01, 6.2000e+01,\n",
       "        5.1000e+01, 6.5000e+01, 5.2000e+01, 8.1000e+01, 5.4000e+01,\n",
       "        4.7000e+01, 5.4000e+01, 8.0000e+01, 6.1000e+01, 6.0000e+01,\n",
       "        6.3000e+01, 5.6000e+01, 4.9000e+01, 5.6000e+01, 4.2000e+01,\n",
       "        5.8000e+01, 5.5000e+01, 4.6000e+01, 6.3000e+01, 4.7000e+01,\n",
       "        5.2000e+01, 4.3000e+01, 4.6000e+01, 5.6000e+01, 4.4000e+01,\n",
       "        4.4000e+01, 6.1000e+01, 4.5000e+01, 4.4000e+01, 5.7000e+01,\n",
       "        5.4000e+01, 4.4000e+01, 4.6000e+01, 6.8000e+01, 3.9000e+01,\n",
       "        4.2000e+01, 4.6000e+01, 4.5000e+01, 3.9000e+01, 4.0000e+01,\n",
       "        4.5000e+01, 3.6000e+01, 5.0000e+01, 4.0000e+01, 4.5000e+01,\n",
       "        3.6000e+01, 4.3000e+01, 4.2000e+01, 2.7000e+01, 3.6000e+01,\n",
       "        4.3000e+01, 3.3000e+01, 3.0000e+01, 3.4000e+01, 4.6000e+01,\n",
       "        3.8000e+01, 4.0000e+01, 4.7000e+01, 4.1000e+01, 4.1000e+01,\n",
       "        2.4000e+01, 4.2000e+01, 3.3000e+01, 3.5000e+01, 3.2000e+01,\n",
       "        3.9000e+01, 2.4000e+01, 3.7000e+01, 2.9000e+01, 3.7000e+01,\n",
       "        3.8000e+01, 3.7000e+01, 3.1000e+01, 2.9000e+01, 3.8000e+01,\n",
       "        3.3000e+01, 4.0000e+01, 5.1000e+01, 3.7000e+01, 3.3000e+01,\n",
       "        2.2000e+01, 3.1000e+01, 2.7000e+01, 2.9000e+01, 3.9000e+01,\n",
       "        3.1000e+01, 2.6000e+01, 3.7000e+01, 3.2000e+01, 3.8000e+01,\n",
       "        3.5000e+01, 2.4000e+01, 3.9000e+01, 3.7000e+01, 3.0000e+01,\n",
       "        3.2000e+01, 4.2000e+01, 3.1000e+01, 2.9000e+01, 3.0000e+01,\n",
       "        2.8000e+01, 3.7000e+01, 3.8000e+01, 3.6000e+01, 4.0000e+01,\n",
       "        3.7000e+01, 3.3000e+01, 3.4000e+01, 2.7000e+01, 2.9000e+01,\n",
       "        4.5000e+01, 4.1000e+01, 3.3000e+01, 3.9000e+01, 4.3000e+01,\n",
       "        3.6000e+01, 3.8000e+01, 3.1000e+01, 3.8000e+01, 3.9000e+01,\n",
       "        4.7000e+01, 5.8000e+01, 4.4000e+01, 5.6000e+01, 5.6000e+01,\n",
       "        5.0000e+01, 6.1000e+01, 5.6000e+01, 6.7000e+01, 5.7000e+01,\n",
       "        8.3000e+01, 6.7000e+01, 9.1000e+01, 1.0300e+02, 1.1200e+02,\n",
       "        1.1000e+02, 1.1600e+02, 1.0900e+02, 1.7800e+02, 1.8100e+02,\n",
       "        2.0600e+02, 2.4500e+02, 2.8200e+02, 3.2000e+02, 4.4400e+02,\n",
       "        5.8900e+02, 8.4900e+02, 1.5000e+03, 2.8930e+03, 1.5731e+04]),\n",
       " array([-5.87136752e+00, -5.85180835e+00, -5.83224919e+00, -5.81269002e+00,\n",
       "        -5.79313086e+00, -5.77357170e+00, -5.75401253e+00, -5.73445337e+00,\n",
       "        -5.71489420e+00, -5.69533504e+00, -5.67577587e+00, -5.65621671e+00,\n",
       "        -5.63665755e+00, -5.61709838e+00, -5.59753922e+00, -5.57798005e+00,\n",
       "        -5.55842089e+00, -5.53886172e+00, -5.51930256e+00, -5.49974340e+00,\n",
       "        -5.48018423e+00, -5.46062507e+00, -5.44106590e+00, -5.42150674e+00,\n",
       "        -5.40194757e+00, -5.38238841e+00, -5.36282924e+00, -5.34327008e+00,\n",
       "        -5.32371092e+00, -5.30415175e+00, -5.28459259e+00, -5.26503342e+00,\n",
       "        -5.24547426e+00, -5.22591509e+00, -5.20635593e+00, -5.18679677e+00,\n",
       "        -5.16723760e+00, -5.14767844e+00, -5.12811927e+00, -5.10856011e+00,\n",
       "        -5.08900094e+00, -5.06944178e+00, -5.04988262e+00, -5.03032345e+00,\n",
       "        -5.01076429e+00, -4.99120512e+00, -4.97164596e+00, -4.95208679e+00,\n",
       "        -4.93252763e+00, -4.91296847e+00, -4.89340930e+00, -4.87385014e+00,\n",
       "        -4.85429097e+00, -4.83473181e+00, -4.81517264e+00, -4.79561348e+00,\n",
       "        -4.77605432e+00, -4.75649515e+00, -4.73693599e+00, -4.71737682e+00,\n",
       "        -4.69781766e+00, -4.67825849e+00, -4.65869933e+00, -4.63914017e+00,\n",
       "        -4.61958100e+00, -4.60002184e+00, -4.58046267e+00, -4.56090351e+00,\n",
       "        -4.54134434e+00, -4.52178518e+00, -4.50222601e+00, -4.48266685e+00,\n",
       "        -4.46310769e+00, -4.44354852e+00, -4.42398936e+00, -4.40443019e+00,\n",
       "        -4.38487103e+00, -4.36531186e+00, -4.34575270e+00, -4.32619354e+00,\n",
       "        -4.30663437e+00, -4.28707521e+00, -4.26751604e+00, -4.24795688e+00,\n",
       "        -4.22839771e+00, -4.20883855e+00, -4.18927939e+00, -4.16972022e+00,\n",
       "        -4.15016106e+00, -4.13060189e+00, -4.11104273e+00, -4.09148356e+00,\n",
       "        -4.07192440e+00, -4.05236524e+00, -4.03280607e+00, -4.01324691e+00,\n",
       "        -3.99368774e+00, -3.97412858e+00, -3.95456941e+00, -3.93501025e+00,\n",
       "        -3.91545109e+00, -3.89589192e+00, -3.87633276e+00, -3.85677359e+00,\n",
       "        -3.83721443e+00, -3.81765526e+00, -3.79809610e+00, -3.77853694e+00,\n",
       "        -3.75897777e+00, -3.73941861e+00, -3.71985944e+00, -3.70030028e+00,\n",
       "        -3.68074111e+00, -3.66118195e+00, -3.64162278e+00, -3.62206362e+00,\n",
       "        -3.60250446e+00, -3.58294529e+00, -3.56338613e+00, -3.54382696e+00,\n",
       "        -3.52426780e+00, -3.50470863e+00, -3.48514947e+00, -3.46559031e+00,\n",
       "        -3.44603114e+00, -3.42647198e+00, -3.40691281e+00, -3.38735365e+00,\n",
       "        -3.36779448e+00, -3.34823532e+00, -3.32867616e+00, -3.30911699e+00,\n",
       "        -3.28955783e+00, -3.26999866e+00, -3.25043950e+00, -3.23088033e+00,\n",
       "        -3.21132117e+00, -3.19176201e+00, -3.17220284e+00, -3.15264368e+00,\n",
       "        -3.13308451e+00, -3.11352535e+00, -3.09396618e+00, -3.07440702e+00,\n",
       "        -3.05484786e+00, -3.03528869e+00, -3.01572953e+00, -2.99617036e+00,\n",
       "        -2.97661120e+00, -2.95705203e+00, -2.93749287e+00, -2.91793371e+00,\n",
       "        -2.89837454e+00, -2.87881538e+00, -2.85925621e+00, -2.83969705e+00,\n",
       "        -2.82013788e+00, -2.80057872e+00, -2.78101955e+00, -2.76146039e+00,\n",
       "        -2.74190123e+00, -2.72234206e+00, -2.70278290e+00, -2.68322373e+00,\n",
       "        -2.66366457e+00, -2.64410540e+00, -2.62454624e+00, -2.60498708e+00,\n",
       "        -2.58542791e+00, -2.56586875e+00, -2.54630958e+00, -2.52675042e+00,\n",
       "        -2.50719125e+00, -2.48763209e+00, -2.46807293e+00, -2.44851376e+00,\n",
       "        -2.42895460e+00, -2.40939543e+00, -2.38983627e+00, -2.37027710e+00,\n",
       "        -2.35071794e+00, -2.33115878e+00, -2.31159961e+00, -2.29204045e+00,\n",
       "        -2.27248128e+00, -2.25292212e+00, -2.23336295e+00, -2.21380379e+00,\n",
       "        -2.19424463e+00, -2.17468546e+00, -2.15512630e+00, -2.13556713e+00,\n",
       "        -2.11600797e+00, -2.09644880e+00, -2.07688964e+00, -2.05733048e+00,\n",
       "        -2.03777131e+00, -2.01821215e+00, -1.99865298e+00, -1.97909382e+00,\n",
       "        -1.95953465e+00, -1.93997549e+00, -1.92041632e+00, -1.90085716e+00,\n",
       "        -1.88129800e+00, -1.86173883e+00, -1.84217967e+00, -1.82262050e+00,\n",
       "        -1.80306134e+00, -1.78350217e+00, -1.76394301e+00, -1.74438385e+00,\n",
       "        -1.72482468e+00, -1.70526552e+00, -1.68570635e+00, -1.66614719e+00,\n",
       "        -1.64658802e+00, -1.62702886e+00, -1.60746970e+00, -1.58791053e+00,\n",
       "        -1.56835137e+00, -1.54879220e+00, -1.52923304e+00, -1.50967387e+00,\n",
       "        -1.49011471e+00, -1.47055555e+00, -1.45099638e+00, -1.43143722e+00,\n",
       "        -1.41187805e+00, -1.39231889e+00, -1.37275972e+00, -1.35320056e+00,\n",
       "        -1.33364140e+00, -1.31408223e+00, -1.29452307e+00, -1.27496390e+00,\n",
       "        -1.25540474e+00, -1.23584557e+00, -1.21628641e+00, -1.19672725e+00,\n",
       "        -1.17716808e+00, -1.15760892e+00, -1.13804975e+00, -1.11849059e+00,\n",
       "        -1.09893142e+00, -1.07937226e+00, -1.05981309e+00, -1.04025393e+00,\n",
       "        -1.02069477e+00, -1.00113560e+00, -9.81576438e-01, -9.62017273e-01,\n",
       "        -9.42458109e-01, -9.22898945e-01, -9.03339780e-01, -8.83780616e-01,\n",
       "        -8.64221452e-01, -8.44662287e-01, -8.25103123e-01, -8.05543959e-01,\n",
       "        -7.85984794e-01, -7.66425630e-01, -7.46866466e-01, -7.27307301e-01,\n",
       "        -7.07748137e-01, -6.88188973e-01, -6.68629809e-01, -6.49070644e-01,\n",
       "        -6.29511480e-01, -6.09952316e-01, -5.90393151e-01, -5.70833987e-01,\n",
       "        -5.51274823e-01, -5.31715658e-01, -5.12156494e-01, -4.92597330e-01,\n",
       "        -4.73038165e-01, -4.53479001e-01, -4.33919837e-01, -4.14360672e-01,\n",
       "        -3.94801508e-01, -3.75242344e-01, -3.55683179e-01, -3.36124015e-01,\n",
       "        -3.16564851e-01, -2.97005686e-01, -2.77446522e-01, -2.57887358e-01,\n",
       "        -2.38328194e-01, -2.18769029e-01, -1.99209865e-01, -1.79650701e-01,\n",
       "        -1.60091536e-01, -1.40532372e-01, -1.20973208e-01, -1.01414043e-01,\n",
       "        -8.18548790e-02, -6.22957147e-02, -4.27365504e-02, -2.31773860e-02,\n",
       "        -3.61822172e-03]),\n",
       " <BarContainer object of 300 artists>)"
      ]
     },
     "execution_count": 6,
     "metadata": {},
     "output_type": "execute_result"
    },
    {
     "data": {
      "image/png": "[encoded data removed]",
      "text/plain": [
       "<Figure size 432x288 with 1 Axes>"
      ]
     },
     "metadata": {
      "needs_background": "light"
     },
     "output_type": "display_data"
    }
   ],
   "source": [
    "#plt.xlim(-0.5, 0)\n",
    "plt.hist(np.log(np.array(rewards)), bins=300)\n"
   ]
  },
  {
   "cell_type": "code",
   "execution_count": 7,
   "metadata": {},
   "outputs": [
    {
     "name": "stdout",
     "output_type": "stream",
     "text": [
      "0 0.002819015644490719\n",
      "20 0.007793527748435736\n",
      "40 0.0484938271343709\n",
      "60 0.9415658831596374\n",
      "80 0.9895373225212097\n",
      "100 0.99638831615448\n"
     ]
    }
   ],
   "source": [
    "#all percentiles of reward\n",
    "for i in range(0, 101, 20):\n",
    "    print(i, np.percentile(rewards, i))"
   ]
  },
  {
   "cell_type": "code",
   "execution_count": null,
   "metadata": {},
   "outputs": [],
   "source": []
  }
 ],
 "metadata": {
  "kernelspec": {
   "display_name": "Python 3",
   "language": "python",
   "name": "python3"
  },
  "language_info": {
   "codemirror_mode": {
    "name": "ipython",
    "version": 3
   },
   "file_extension": ".py",
   "mimetype": "text/x-python",
   "name": "python",
   "nbconvert_exporter": "python",
   "pygments_lexer": "ipython3",
   "version": "3.8.10"
  },
  "orig_nbformat": 4,
  "vscode": {
   "interpreter": {
    "hash": "e7370f93d1d0cde622a1f8e1c04877d8463912d04d973331ad4851f04de6915a"
   }
  }
 },
 "nbformat": 4,
 "nbformat_minor": 2
}
